{
  "nbformat": 4,
  "nbformat_minor": 0,
  "metadata": {
    "colab": {
      "provenance": [],
      "authorship_tag": "ABX9TyOHAdlvrNNg4yhCA+o+x5XF",
      "include_colab_link": true
    },
    "kernelspec": {
      "name": "python3",
      "display_name": "Python 3"
    },
    "language_info": {
      "name": "python"
    }
  },
  "cells": [
    {
      "cell_type": "markdown",
      "metadata": {
        "id": "view-in-github",
        "colab_type": "text"
      },
      "source": [
        "<a href=\"https://colab.research.google.com/github/AbdoulKidakou/M1SLED/blob/main/Impl%C3%A9mentationdes_m%C3%A9thodes_de_traitement_de_donn%C3%A9e.ipynb\" target=\"_parent\"><img src=\"https://colab.research.google.com/assets/colab-badge.svg\" alt=\"Open In Colab\"/></a>"
      ]
    },
    {
      "cell_type": "markdown",
      "source": [
        "\n",
        "# **data handling techniques**\n",
        "\n",
        "\n",
        "# **Main Goal:**\n",
        "\n",
        "To equip users with practical tools and techniques for cleaning and preparing datasets, ensuring that the data used for analysis or modeling is reliable and representative of the underlying patterns. This notebook provides a foundation for robust data preprocessing and quality assurance."
      ],
      "metadata": {
        "id": "CMDwk6vGkJ1S"
      }
    },
    {
      "cell_type": "code",
      "execution_count": 15,
      "metadata": {
        "id": "ZbJWE81Znm1T"
      },
      "outputs": [],
      "source": [
        "#Traitement des données manquantes et aberrantes\n",
        "\n",
        "# Importation des bibliothèques nécessaires\n",
        "import pandas as pd\n",
        "import numpy as np\n",
        "from sklearn.impute import SimpleImputer\n",
        "from scipy import stats\n",
        "import matplotlib.pyplot as plt\n",
        "import seaborn as sns\n",
        "\n"
      ]
    },
    {
      "cell_type": "code",
      "source": [
        "# Exemple de jeu de données\n",
        "np.random.seed(42)\n",
        "data = {\n",
        "    \"A\": [1, 2, np.nan, 4, 5, np.nan, 7, 8, 9, 10],\n",
        "    \"B\": [10, 20, 30, 40, 50, 60, 70, 80, 90, 100],\n",
        "    \"C\": [np.nan, 10, 2, 3, 4, 5, 6, np.nan, 8, 5500]  # Contient une valeur aberrante\n",
        "}\n",
        "df = pd.DataFrame(data)\n",
        "\n",
        "print(\"\\n=== Jeu de données initial ===\")\n",
        "print(df)\n"
      ],
      "metadata": {
        "id": "_RfLASCV6z9C",
        "colab": {
          "base_uri": "https://localhost:8080/"
        },
        "outputId": "d4ac6fc7-dd96-4811-e839-8ef8f833c489"
      },
      "execution_count": 16,
      "outputs": [
        {
          "output_type": "stream",
          "name": "stdout",
          "text": [
            "\n",
            "=== Jeu de données initial ===\n",
            "      A    B       C\n",
            "0   1.0   10     NaN\n",
            "1   2.0   20    10.0\n",
            "2   NaN   30     2.0\n",
            "3   4.0   40     3.0\n",
            "4   5.0   50     4.0\n",
            "5   NaN   60     5.0\n",
            "6   7.0   70     6.0\n",
            "7   8.0   80     NaN\n",
            "8   9.0   90     8.0\n",
            "9  10.0  100  5500.0\n"
          ]
        }
      ]
    },
    {
      "cell_type": "markdown",
      "source": [
        "The purpose of Notebook 2 is to demonstrate data handling techniques, specifically focusing on addressing missing values and identifying/managing outliers in datasets. These tasks are critical in preparing data for machine learning models to ensure they perform accurately and robustly."
      ],
      "metadata": {
        "id": "0NjuwDZ46zWK"
      }
    },
    {
      "cell_type": "markdown",
      "source": [
        "# **1.   Handling Missing Data:**\n",
        "\n",
        "-  Understand different strategies to deal with missing values, such as:\n",
        "\n",
        "            * Removing rows/columns with missing values.\n",
        "            * Imputing missing values using statistical methods (mean, median, etc.).\n",
        "\n",
        "\n",
        "- Learn how to make datasets complete for model training."
      ],
      "metadata": {
        "id": "nTASwvgk7hqD"
      }
    },
    {
      "cell_type": "code",
      "source": [
        "# 1. Gestion des données manquantes\n",
        "\n",
        "## a. Suppression des lignes contenant des valeurs manquantes\n",
        "print(\"\\n=== Suppression des lignes contenant des valeurs manquantes ===\")\n",
        "df_dropna = df.dropna()\n",
        "print(df_dropna)\n",
        "\n",
        "## b. Imputation avec la moyenne\n",
        "print(\"\\n=== Imputation des valeurs manquantes avec la moyenne ===\")\n",
        "imputer_mean = SimpleImputer(strategy=\"mean\")\n",
        "df_mean = pd.DataFrame(imputer_mean.fit_transform(df), columns=df.columns)\n",
        "print(df_mean)\n",
        "\n",
        "## c. Imputation avec la médiane\n",
        "print(\"\\n=== Imputation des valeurs manquantes avec la médiane ===\")\n",
        "imputer_median = SimpleImputer(strategy=\"median\")\n",
        "df_median = pd.DataFrame(imputer_median.fit_transform(df), columns=df.columns)\n",
        "print(df_median)\n"
      ],
      "metadata": {
        "id": "a82Kgw5O7LrO",
        "colab": {
          "base_uri": "https://localhost:8080/"
        },
        "outputId": "cc20c94d-e516-469e-8d5d-76b933ea3253"
      },
      "execution_count": 17,
      "outputs": [
        {
          "output_type": "stream",
          "name": "stdout",
          "text": [
            "\n",
            "=== Suppression des lignes contenant des valeurs manquantes ===\n",
            "      A    B       C\n",
            "1   2.0   20    10.0\n",
            "3   4.0   40     3.0\n",
            "4   5.0   50     4.0\n",
            "6   7.0   70     6.0\n",
            "8   9.0   90     8.0\n",
            "9  10.0  100  5500.0\n",
            "\n",
            "=== Imputation des valeurs manquantes avec la moyenne ===\n",
            "       A      B        C\n",
            "0   1.00   10.0   692.25\n",
            "1   2.00   20.0    10.00\n",
            "2   5.75   30.0     2.00\n",
            "3   4.00   40.0     3.00\n",
            "4   5.00   50.0     4.00\n",
            "5   5.75   60.0     5.00\n",
            "6   7.00   70.0     6.00\n",
            "7   8.00   80.0   692.25\n",
            "8   9.00   90.0     8.00\n",
            "9  10.00  100.0  5500.00\n",
            "\n",
            "=== Imputation des valeurs manquantes avec la médiane ===\n",
            "      A      B       C\n",
            "0   1.0   10.0     5.5\n",
            "1   2.0   20.0    10.0\n",
            "2   6.0   30.0     2.0\n",
            "3   4.0   40.0     3.0\n",
            "4   5.0   50.0     4.0\n",
            "5   6.0   60.0     5.0\n",
            "6   7.0   70.0     6.0\n",
            "7   8.0   80.0     5.5\n",
            "8   9.0   90.0     8.0\n",
            "9  10.0  100.0  5500.0\n"
          ]
        }
      ]
    },
    {
      "cell_type": "markdown",
      "source": [
        "# 2.   Handling Outliers:\n",
        "\n",
        "*   Identify outliers using statistical methods such as the Z-score.\n",
        "*   Explore techniques to address outliers by either removing or capping them.\n",
        "*   Visualize data distributions to better understand anomalies.   \n",
        "    "
      ],
      "metadata": {
        "id": "6liMiXlC8V9s"
      }
    },
    {
      "cell_type": "code",
      "source": [
        "# 2. Gestion des valeurs aberrantes\n",
        "\n",
        "## a. Détection des valeurs aberrantes avec Z-Score\n",
        "z_scores = stats.zscore(df[\"C\"], nan_policy='omit')\n",
        "print(\"\\n=== Affichage des valeurs Z-Score de la colone C ===\")\n",
        "print(z_scores)"
      ],
      "metadata": {
        "id": "GwAejXhr8WjP",
        "colab": {
          "base_uri": "https://localhost:8080/"
        },
        "outputId": "fc77239f-e4b7-4dd9-8c14-ea5fb4b260c5"
      },
      "execution_count": 18,
      "outputs": [
        {
          "output_type": "stream",
          "name": "stdout",
          "text": [
            "\n",
            "=== Affichage des valeurs Z-Score de la colone C ===\n",
            "0         NaN\n",
            "1   -0.375448\n",
            "2   -0.379851\n",
            "3   -0.379301\n",
            "4   -0.378750\n",
            "5   -0.378200\n",
            "6   -0.377650\n",
            "7         NaN\n",
            "8   -0.376549\n",
            "9    2.645749\n",
            "Name: C, dtype: float64\n"
          ]
        }
      ]
    },
    {
      "cell_type": "code",
      "source": [
        "print(\"\\n=== Détection des valeurs aberrantes avec Z-Score ===\")\n",
        "df_ab = df[[\"C\"]].copy()\n",
        "df_ab[\"Z-Score\"] = z_scores\n",
        "def highlight_zscore(val):\n",
        "  return 'background-color: yellow' if val == z_scores[9] else ''\n",
        "styled_df_ab = df_ab.style.applymap(highlight_zscore, subset=['Z-Score'])\n",
        "styled_df_ab\n",
        "#aberrant_indices = np.where(np.abs(z_scores) > 2)  # Seuil: |Z| > 3\n",
        "#print(\"Indices des valeurs aberrantes:\", aberrant_indices)\n",
        "\n"
      ],
      "metadata": {
        "id": "26TPku0bmtnF",
        "outputId": "8f265d4a-4711-4c0f-cb80-8373a5ac2bd0",
        "colab": {
          "base_uri": "https://localhost:8080/",
          "height": 432
        }
      },
      "execution_count": 23,
      "outputs": [
        {
          "output_type": "stream",
          "name": "stdout",
          "text": [
            "\n",
            "=== Détection des valeurs aberrantes avec Z-Score ===\n"
          ]
        },
        {
          "output_type": "stream",
          "name": "stderr",
          "text": [
            "<ipython-input-23-8ec05987c175>:6: FutureWarning: Styler.applymap has been deprecated. Use Styler.map instead.\n",
            "  styled_df_ab = df_ab.style.applymap(highlight_zscore, subset=['Z-Score'])\n"
          ]
        },
        {
          "output_type": "execute_result",
          "data": {
            "text/plain": [
              "<pandas.io.formats.style.Styler at 0x7f721ed4e1d0>"
            ],
            "text/html": [
              "<style type=\"text/css\">\n",
              "#T_4924e_row9_col1 {\n",
              "  background-color: yellow;\n",
              "}\n",
              "</style>\n",
              "<table id=\"T_4924e\" class=\"dataframe\">\n",
              "  <thead>\n",
              "    <tr>\n",
              "      <th class=\"blank level0\" >&nbsp;</th>\n",
              "      <th id=\"T_4924e_level0_col0\" class=\"col_heading level0 col0\" >C</th>\n",
              "      <th id=\"T_4924e_level0_col1\" class=\"col_heading level0 col1\" >Z-Score</th>\n",
              "    </tr>\n",
              "  </thead>\n",
              "  <tbody>\n",
              "    <tr>\n",
              "      <th id=\"T_4924e_level0_row0\" class=\"row_heading level0 row0\" >0</th>\n",
              "      <td id=\"T_4924e_row0_col0\" class=\"data row0 col0\" >nan</td>\n",
              "      <td id=\"T_4924e_row0_col1\" class=\"data row0 col1\" >nan</td>\n",
              "    </tr>\n",
              "    <tr>\n",
              "      <th id=\"T_4924e_level0_row1\" class=\"row_heading level0 row1\" >1</th>\n",
              "      <td id=\"T_4924e_row1_col0\" class=\"data row1 col0\" >10.000000</td>\n",
              "      <td id=\"T_4924e_row1_col1\" class=\"data row1 col1\" >-0.375448</td>\n",
              "    </tr>\n",
              "    <tr>\n",
              "      <th id=\"T_4924e_level0_row2\" class=\"row_heading level0 row2\" >2</th>\n",
              "      <td id=\"T_4924e_row2_col0\" class=\"data row2 col0\" >2.000000</td>\n",
              "      <td id=\"T_4924e_row2_col1\" class=\"data row2 col1\" >-0.379851</td>\n",
              "    </tr>\n",
              "    <tr>\n",
              "      <th id=\"T_4924e_level0_row3\" class=\"row_heading level0 row3\" >3</th>\n",
              "      <td id=\"T_4924e_row3_col0\" class=\"data row3 col0\" >3.000000</td>\n",
              "      <td id=\"T_4924e_row3_col1\" class=\"data row3 col1\" >-0.379301</td>\n",
              "    </tr>\n",
              "    <tr>\n",
              "      <th id=\"T_4924e_level0_row4\" class=\"row_heading level0 row4\" >4</th>\n",
              "      <td id=\"T_4924e_row4_col0\" class=\"data row4 col0\" >4.000000</td>\n",
              "      <td id=\"T_4924e_row4_col1\" class=\"data row4 col1\" >-0.378750</td>\n",
              "    </tr>\n",
              "    <tr>\n",
              "      <th id=\"T_4924e_level0_row5\" class=\"row_heading level0 row5\" >5</th>\n",
              "      <td id=\"T_4924e_row5_col0\" class=\"data row5 col0\" >5.000000</td>\n",
              "      <td id=\"T_4924e_row5_col1\" class=\"data row5 col1\" >-0.378200</td>\n",
              "    </tr>\n",
              "    <tr>\n",
              "      <th id=\"T_4924e_level0_row6\" class=\"row_heading level0 row6\" >6</th>\n",
              "      <td id=\"T_4924e_row6_col0\" class=\"data row6 col0\" >6.000000</td>\n",
              "      <td id=\"T_4924e_row6_col1\" class=\"data row6 col1\" >-0.377650</td>\n",
              "    </tr>\n",
              "    <tr>\n",
              "      <th id=\"T_4924e_level0_row7\" class=\"row_heading level0 row7\" >7</th>\n",
              "      <td id=\"T_4924e_row7_col0\" class=\"data row7 col0\" >nan</td>\n",
              "      <td id=\"T_4924e_row7_col1\" class=\"data row7 col1\" >nan</td>\n",
              "    </tr>\n",
              "    <tr>\n",
              "      <th id=\"T_4924e_level0_row8\" class=\"row_heading level0 row8\" >8</th>\n",
              "      <td id=\"T_4924e_row8_col0\" class=\"data row8 col0\" >8.000000</td>\n",
              "      <td id=\"T_4924e_row8_col1\" class=\"data row8 col1\" >-0.376549</td>\n",
              "    </tr>\n",
              "    <tr>\n",
              "      <th id=\"T_4924e_level0_row9\" class=\"row_heading level0 row9\" >9</th>\n",
              "      <td id=\"T_4924e_row9_col0\" class=\"data row9 col0\" >5500.000000</td>\n",
              "      <td id=\"T_4924e_row9_col1\" class=\"data row9 col1\" >2.645749</td>\n",
              "    </tr>\n",
              "  </tbody>\n",
              "</table>\n"
            ]
          },
          "metadata": {},
          "execution_count": 23
        }
      ]
    },
    {
      "cell_type": "code",
      "source": [
        "## b. Suppression des valeurs aberrantes\n",
        "print(\"\\n=== Suppression des valeurs aberrantes ===\")\n",
        "df_no_outliers = df[(np.abs(z_scores) <= 2) | df[\"C\"].isna()]\n",
        "print(df_no_outliers)\n",
        "\n",
        "## c. Visualisation des valeurs aberrantes\n",
        "print(\"\\n=== Visualisation des données ===\")\n",
        "plt.figure(figsize=(8, 5))\n",
        "sns.boxplot(x=df[\"C\"], color=\"skyblue\")\n",
        "plt.title(\"Boxplot pour la colonne C (avec valeurs aberrantes)\")\n",
        "plt.show()\n",
        "\n",
        "# Résumé des étapes appliquées\n",
        "print(\"\\n=== Résumé ===\")\n",
        "print(\"1. Gestion des valeurs manquantes: Suppression et imputation (moyenne, médiane)\")\n",
        "print(\"2. Détection et suppression des valeurs aberrantes (Z-Score)\")\n"
      ],
      "metadata": {
        "id": "Anb5BCXKmxjb",
        "outputId": "9c821f27-74f6-4f54-fab1-c10a3ece52ab",
        "colab": {
          "base_uri": "https://localhost:8080/",
          "height": 800
        }
      },
      "execution_count": 20,
      "outputs": [
        {
          "output_type": "stream",
          "name": "stdout",
          "text": [
            "\n",
            "=== Suppression des valeurs aberrantes ===\n",
            "     A   B     C\n",
            "0  1.0  10   NaN\n",
            "1  2.0  20  10.0\n",
            "2  NaN  30   2.0\n",
            "3  4.0  40   3.0\n",
            "4  5.0  50   4.0\n",
            "5  NaN  60   5.0\n",
            "6  7.0  70   6.0\n",
            "7  8.0  80   NaN\n",
            "8  9.0  90   8.0\n",
            "\n",
            "=== Visualisation des données ===\n"
          ]
        },
        {
          "output_type": "display_data",
          "data": {
            "text/plain": [
              "<Figure size 800x500 with 1 Axes>"
            ],
            "image/png": "[encoded data removed]"
          },
          "metadata": {}
        },
        {
          "output_type": "stream",
          "name": "stdout",
          "text": [
            "\n",
            "=== Résumé ===\n",
            "1. Gestion des valeurs manquantes: Suppression et imputation (moyenne, médiane)\n",
            "2. Détection et suppression des valeurs aberrantes (Z-Score)\n"
          ]
        }
      ]
    },
    {
      "cell_type": "code",
      "source": [],
      "metadata": {
        "id": "9Pb9qgG6bcGX"
      },
      "execution_count": 20,
      "outputs": []
    }
  ]
}