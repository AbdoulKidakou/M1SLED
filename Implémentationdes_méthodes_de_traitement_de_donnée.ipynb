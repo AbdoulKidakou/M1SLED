{
  "nbformat": 4,
  "nbformat_minor": 0,
  "metadata": {
    "colab": {
      "provenance": [],
      "authorship_tag": "ABX9TyM+g8N8JZYcEYCI2ZkKX2pu",
      "include_colab_link": true
    },
    "kernelspec": {
      "name": "python3",
      "display_name": "Python 3"
    },
    "language_info": {
      "name": "python"
    }
  },
  "cells": [
    {
      "cell_type": "markdown",
      "metadata": {
        "id": "view-in-github",
        "colab_type": "text"
      },
      "source": [
        "<a href=\"https://colab.research.google.com/github/AbdoulKidakou/M1SLED/blob/main/Impl%C3%A9mentationdes_m%C3%A9thodes_de_traitement_de_donn%C3%A9e.ipynb\" target=\"_parent\"><img src=\"https://colab.research.google.com/assets/colab-badge.svg\" alt=\"Open In Colab\"/></a>"
      ]
    },
    {
      "cell_type": "markdown",
      "source": [
        "\n",
        "# **data handling techniques**\n",
        "\n",
        "\n",
        "# **Main Goal:**\n",
        "\n",
        "To equip users with practical tools and techniques for cleaning and preparing datasets, ensuring that the data used for analysis or modeling is reliable and representative of the underlying patterns. This notebook provides a foundation for robust data preprocessing and quality assurance."
      ],
      "metadata": {
        "id": "CMDwk6vGkJ1S"
      }
    },
    {
      "cell_type": "code",
      "execution_count": 1,
      "metadata": {
        "id": "ZbJWE81Znm1T"
      },
      "outputs": [],
      "source": [
        "#Traitement des données manquantes et aberrantes\n",
        "\n",
        "# Importation des bibliothèques nécessaires\n",
        "import pandas as pd\n",
        "import numpy as np\n",
        "from sklearn.impute import SimpleImputer\n",
        "from scipy import stats\n",
        "import matplotlib.pyplot as plt\n",
        "import seaborn as sns\n",
        "\n"
      ]
    },
    {
      "cell_type": "code",
      "source": [
        "# Exemple de jeu de données\n",
        "np.random.seed(42)\n",
        "data = {\n",
        "    \"A\": [1, 2, np.nan, 4, 5, np.nan, 7, 8, 9, 10],\n",
        "    \"B\": [10, 20, 30, 40, 50, 60, 70, 80, 90, 100],\n",
        "    \"C\": [np.nan, 1, 2, 3, 4, 5, 6, np.nan, 8, 1000]  # Contient une valeur aberrante\n",
        "}\n",
        "df = pd.DataFrame(data)\n",
        "\n",
        "print(\"\\n=== Jeu de données initial ===\")\n",
        "print(df)\n"
      ],
      "metadata": {
        "id": "_RfLASCV6z9C",
        "colab": {
          "base_uri": "https://localhost:8080/"
        },
        "outputId": "bd91738f-655b-4991-c856-405cff47f797"
      },
      "execution_count": 2,
      "outputs": [
        {
          "output_type": "stream",
          "name": "stdout",
          "text": [
            "\n",
            "=== Jeu de données initial ===\n",
            "      A    B       C\n",
            "0   1.0   10     NaN\n",
            "1   2.0   20     1.0\n",
            "2   NaN   30     2.0\n",
            "3   4.0   40     3.0\n",
            "4   5.0   50     4.0\n",
            "5   NaN   60     5.0\n",
            "6   7.0   70     6.0\n",
            "7   8.0   80     NaN\n",
            "8   9.0   90     8.0\n",
            "9  10.0  100  1000.0\n"
          ]
        }
      ]
    },
    {
      "cell_type": "markdown",
      "source": [
        "The purpose of Notebook 2 is to demonstrate data handling techniques, specifically focusing on addressing missing values and identifying/managing outliers in datasets. These tasks are critical in preparing data for machine learning models to ensure they perform accurately and robustly."
      ],
      "metadata": {
        "id": "0NjuwDZ46zWK"
      }
    },
    {
      "cell_type": "markdown",
      "source": [
        "# **1.   Handling Missing Data:**\n",
        "\n",
        "-  Understand different strategies to deal with missing values, such as:\n",
        "\n",
        "            * Removing rows/columns with missing values.\n",
        "            * Imputing missing values using statistical methods (mean, median, etc.).\n",
        "\n",
        "\n",
        "- Learn how to make datasets complete for model training."
      ],
      "metadata": {
        "id": "nTASwvgk7hqD"
      }
    },
    {
      "cell_type": "code",
      "source": [
        "# 1. Gestion des données manquantes\n",
        "\n",
        "## a. Suppression des lignes contenant des valeurs manquantes\n",
        "print(\"\\n=== Suppression des lignes contenant des valeurs manquantes ===\")\n",
        "df_dropna = df.dropna()\n",
        "print(df_dropna)\n",
        "\n",
        "## b. Imputation avec la moyenne\n",
        "print(\"\\n=== Imputation des valeurs manquantes avec la moyenne ===\")\n",
        "imputer_mean = SimpleImputer(strategy=\"mean\")\n",
        "df_mean = pd.DataFrame(imputer_mean.fit_transform(df), columns=df.columns)\n",
        "print(df_mean)\n",
        "\n",
        "## c. Imputation avec la médiane\n",
        "print(\"\\n=== Imputation des valeurs manquantes avec la médiane ===\")\n",
        "imputer_median = SimpleImputer(strategy=\"median\")\n",
        "df_median = pd.DataFrame(imputer_median.fit_transform(df), columns=df.columns)\n",
        "print(df_median)\n"
      ],
      "metadata": {
        "id": "a82Kgw5O7LrO",
        "colab": {
          "base_uri": "https://localhost:8080/"
        },
        "outputId": "aaf6d56d-0af9-4400-923f-d156196a51b3"
      },
      "execution_count": 3,
      "outputs": [
        {
          "output_type": "stream",
          "name": "stdout",
          "text": [
            "\n",
            "=== Suppression des lignes contenant des valeurs manquantes ===\n",
            "      A    B       C\n",
            "1   2.0   20     1.0\n",
            "3   4.0   40     3.0\n",
            "4   5.0   50     4.0\n",
            "6   7.0   70     6.0\n",
            "8   9.0   90     8.0\n",
            "9  10.0  100  1000.0\n",
            "\n",
            "=== Imputation des valeurs manquantes avec la moyenne ===\n",
            "       A      B         C\n",
            "0   1.00   10.0   128.625\n",
            "1   2.00   20.0     1.000\n",
            "2   5.75   30.0     2.000\n",
            "3   4.00   40.0     3.000\n",
            "4   5.00   50.0     4.000\n",
            "5   5.75   60.0     5.000\n",
            "6   7.00   70.0     6.000\n",
            "7   8.00   80.0   128.625\n",
            "8   9.00   90.0     8.000\n",
            "9  10.00  100.0  1000.000\n",
            "\n",
            "=== Imputation des valeurs manquantes avec la médiane ===\n",
            "      A      B       C\n",
            "0   1.0   10.0     4.5\n",
            "1   2.0   20.0     1.0\n",
            "2   6.0   30.0     2.0\n",
            "3   4.0   40.0     3.0\n",
            "4   5.0   50.0     4.0\n",
            "5   6.0   60.0     5.0\n",
            "6   7.0   70.0     6.0\n",
            "7   8.0   80.0     4.5\n",
            "8   9.0   90.0     8.0\n",
            "9  10.0  100.0  1000.0\n"
          ]
        }
      ]
    },
    {
      "cell_type": "markdown",
      "source": [
        "# 2.   Handling Outliers:\n",
        "\n",
        "*   Identify outliers using statistical methods such as the Z-score.\n",
        "*   Explore techniques to address outliers by either removing or capping them.\n",
        "*   Visualize data distributions to better understand anomalies.   \n",
        "    "
      ],
      "metadata": {
        "id": "6liMiXlC8V9s"
      }
    },
    {
      "cell_type": "code",
      "source": [
        "# 2. Gestion des valeurs aberrantes\n",
        "\n",
        "## a. Détection des valeurs aberrantes avec Z-Score\n",
        "print(\"\\n=== Détection des valeurs aberrantes avec Z-Score ===\")\n",
        "z_scores = stats.zscore(df[\"C\"], nan_policy='omit')\n",
        "aberrant_indices = np.where(np.abs(z_scores) > 3)  # Seuil: |Z| > 3\n",
        "print(\"Indices des valeurs aberrantes:\", aberrant_indices)\n",
        "\n",
        "## b. Suppression des valeurs aberrantes\n",
        "print(\"\\n=== Suppression des valeurs aberrantes ===\")\n",
        "df_no_outliers = df[(np.abs(z_scores) <= 3) | df[\"C\"].isna()]\n",
        "print(df_no_outliers)\n",
        "\n",
        "## c. Visualisation des valeurs aberrantes\n",
        "print(\"\\n=== Visualisation des données ===\")\n",
        "plt.figure(figsize=(8, 5))\n",
        "sns.boxplot(x=df[\"C\"], color=\"skyblue\")\n",
        "plt.title(\"Boxplot pour la colonne C (avec valeurs aberrantes)\")\n",
        "plt.show()\n",
        "\n",
        "# Résumé des étapes appliquées\n",
        "print(\"\\n=== Résumé ===\")\n",
        "print(\"1. Gestion des valeurs manquantes: Suppression et imputation (moyenne, médiane)\")\n",
        "print(\"2. Détection et suppression des valeurs aberrantes (Z-Score)\")\n"
      ],
      "metadata": {
        "id": "GwAejXhr8WjP",
        "colab": {
          "base_uri": "https://localhost:8080/",
          "height": 869
        },
        "outputId": "fc7f240b-844f-40e8-dc57-9c352e155034"
      },
      "execution_count": 4,
      "outputs": [
        {
          "output_type": "stream",
          "name": "stdout",
          "text": [
            "\n",
            "=== Détection des valeurs aberrantes avec Z-Score ===\n",
            "Indices des valeurs aberrantes: (array([], dtype=int64),)\n",
            "\n",
            "=== Suppression des valeurs aberrantes ===\n",
            "      A    B       C\n",
            "0   1.0   10     NaN\n",
            "1   2.0   20     1.0\n",
            "2   NaN   30     2.0\n",
            "3   4.0   40     3.0\n",
            "4   5.0   50     4.0\n",
            "5   NaN   60     5.0\n",
            "6   7.0   70     6.0\n",
            "7   8.0   80     NaN\n",
            "8   9.0   90     8.0\n",
            "9  10.0  100  1000.0\n",
            "\n",
            "=== Visualisation des données ===\n"
          ]
        },
        {
          "output_type": "display_data",
          "data": {
            "text/plain": [
              "<Figure size 800x500 with 1 Axes>"
            ],
            "image/png": "[encoded data removed]"
          },
          "metadata": {}
        },
        {
          "output_type": "stream",
          "name": "stdout",
          "text": [
            "\n",
            "=== Résumé ===\n",
            "1. Gestion des valeurs manquantes: Suppression et imputation (moyenne, médiane)\n",
            "2. Détection et suppression des valeurs aberrantes (Z-Score)\n"
          ]
        }
      ]
    }
  ]
}