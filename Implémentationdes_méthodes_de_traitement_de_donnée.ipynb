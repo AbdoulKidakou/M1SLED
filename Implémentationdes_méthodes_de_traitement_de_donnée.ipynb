{
  "nbformat": 4,
  "nbformat_minor": 0,
  "metadata": {
    "colab": {
      "provenance": [],
      "authorship_tag": "ABX9TyNCilqZX37V1IWzEz4TYJ/u",
      "include_colab_link": true
    },
    "kernelspec": {
      "name": "python3",
      "display_name": "Python 3"
    },
    "language_info": {
      "name": "python"
    }
  },
  "cells": [
    {
      "cell_type": "markdown",
      "metadata": {
        "id": "view-in-github",
        "colab_type": "text"
      },
      "source": [
        "<a href=\"https://colab.research.google.com/github/AbdoulKidakou/M1SLED/blob/main/Impl%C3%A9mentationdes_m%C3%A9thodes_de_traitement_de_donn%C3%A9e.ipynb\" target=\"_parent\"><img src=\"https://colab.research.google.com/assets/colab-badge.svg\" alt=\"Open In Colab\"/></a>"
      ]
    },
    {
      "cell_type": "markdown",
      "source": [
        "\n",
        "# **data handling techniques**\n",
        "\n",
        "\n",
        "# **Main Goal:**\n",
        "\n",
        "To equip users with practical tools and techniques for cleaning and preparing datasets, ensuring that the data used for analysis or modeling is reliable and representative of the underlying patterns. This notebook provides a foundation for robust data preprocessing and quality assurance."
      ],
      "metadata": {
        "id": "CMDwk6vGkJ1S"
      }
    },
    {
      "cell_type": "code",
      "execution_count": null,
      "metadata": {
        "id": "ZbJWE81Znm1T"
      },
      "outputs": [],
      "source": [
        "#Traitement des données manquantes et aberrantes\n",
        "\n",
        "# Importation des bibliothèques nécessaires\n",
        "import pandas as pd\n",
        "import numpy as np\n",
        "from sklearn.impute import SimpleImputer\n",
        "from scipy import stats\n",
        "import matplotlib.pyplot as plt\n",
        "import seaborn as sns\n",
        "\n"
      ]
    },
    {
      "cell_type": "code",
      "source": [
        "# Exemple de jeu de données\n",
        "np.random.seed(42)\n",
        "data = {\n",
        "    \"A\": [1, 2, np.nan, 4, 5, np.nan, 7, 8, 9, 10],\n",
        "    \"B\": [10, 20, 30, 40, 50, 60, 70, 80, 90, 100],\n",
        "    \"C\": [np.nan, 1, 2, 3, 4, 5, 6, np.nan, 8, 1000]  # Contient une valeur aberrante\n",
        "}\n",
        "df = pd.DataFrame(data)\n",
        "\n",
        "print(\"\\n=== Jeu de données initial ===\")\n",
        "print(df)\n"
      ],
      "metadata": {
        "id": "_RfLASCV6z9C"
      },
      "execution_count": null,
      "outputs": []
    },
    {
      "cell_type": "markdown",
      "source": [
        "The purpose of Notebook 2 is to demonstrate data handling techniques, specifically focusing on addressing missing values and identifying/managing outliers in datasets. These tasks are critical in preparing data for machine learning models to ensure they perform accurately and robustly."
      ],
      "metadata": {
        "id": "0NjuwDZ46zWK"
      }
    },
    {
      "cell_type": "markdown",
      "source": [
        "# **1.   Handling Missing Data:**\n",
        "\n",
        "-  Understand different strategies to deal with missing values, such as:\n",
        "\n",
        "  * Removing rows/columns with missing values.\n",
        "  * Imputing missing values using statistical methods (mean, median, etc.).\n",
        "\n",
        "\n",
        "- Learn how to make datasets complete for model training."
      ],
      "metadata": {
        "id": "nTASwvgk7hqD"
      }
    },
    {
      "cell_type": "code",
      "source": [
        "# 1. Gestion des données manquantes\n",
        "\n",
        "## a. Suppression des lignes contenant des valeurs manquantes\n",
        "print(\"\\n=== Suppression des lignes contenant des valeurs manquantes ===\")\n",
        "df_dropna = df.dropna()\n",
        "print(df_dropna)\n",
        "\n",
        "## b. Imputation avec la moyenne\n",
        "print(\"\\n=== Imputation des valeurs manquantes avec la moyenne ===\")\n",
        "imputer_mean = SimpleImputer(strategy=\"mean\")\n",
        "df_mean = pd.DataFrame(imputer_mean.fit_transform(df), columns=df.columns)\n",
        "print(df_mean)\n",
        "\n",
        "## c. Imputation avec la médiane\n",
        "print(\"\\n=== Imputation des valeurs manquantes avec la médiane ===\")\n",
        "imputer_median = SimpleImputer(strategy=\"median\")\n",
        "df_median = pd.DataFrame(imputer_median.fit_transform(df), columns=df.columns)\n",
        "print(df_median)\n"
      ],
      "metadata": {
        "id": "a82Kgw5O7LrO"
      },
      "execution_count": null,
      "outputs": []
    },
    {
      "cell_type": "markdown",
      "source": [
        "# 2.   Handling Outliers:\n",
        "\n",
        "*   Identify outliers using statistical methods such as the Z-score.\n",
        "*   Explore techniques to address outliers by either removing or capping them.\n",
        "*   Visualize data distributions to better understand anomalies.   \n",
        "    "
      ],
      "metadata": {
        "id": "6liMiXlC8V9s"
      }
    },
    {
      "cell_type": "code",
      "source": [
        "# 2. Gestion des valeurs aberrantes\n",
        "\n",
        "## a. Détection des valeurs aberrantes avec Z-Score\n",
        "print(\"\\n=== Détection des valeurs aberrantes avec Z-Score ===\")\n",
        "z_scores = stats.zscore(df[\"C\"], nan_policy='omit')\n",
        "aberrant_indices = np.where(np.abs(z_scores) > 3)  # Seuil: |Z| > 3\n",
        "print(\"Indices des valeurs aberrantes:\", aberrant_indices)\n",
        "\n",
        "## b. Suppression des valeurs aberrantes\n",
        "print(\"\\n=== Suppression des valeurs aberrantes ===\")\n",
        "df_no_outliers = df[(np.abs(z_scores) <= 3) | df[\"C\"].isna()]\n",
        "print(df_no_outliers)\n",
        "\n",
        "## c. Visualisation des valeurs aberrantes\n",
        "print(\"\\n=== Visualisation des données ===\")\n",
        "plt.figure(figsize=(8, 5))\n",
        "sns.boxplot(x=df[\"C\"], color=\"skyblue\")\n",
        "plt.title(\"Boxplot pour la colonne C (avec valeurs aberrantes)\")\n",
        "plt.show()\n",
        "\n",
        "# Résumé des étapes appliquées\n",
        "print(\"\\n=== Résumé ===\")\n",
        "print(\"1. Gestion des valeurs manquantes: Suppression et imputation (moyenne, médiane)\")\n",
        "print(\"2. Détection et suppression des valeurs aberrantes (Z-Score)\")\n"
      ],
      "metadata": {
        "id": "GwAejXhr8WjP"
      },
      "execution_count": null,
      "outputs": []
    }
  ]
}